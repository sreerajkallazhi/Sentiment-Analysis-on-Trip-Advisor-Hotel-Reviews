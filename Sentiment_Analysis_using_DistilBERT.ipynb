{
  "nbformat": 4,
  "nbformat_minor": 0,
  "metadata": {
    "colab": {
      "provenance": []
    },
    "kernelspec": {
      "name": "python3",
      "display_name": "Python 3"
    },
    "language_info": {
      "name": "python"
    }
  },
  "cells": [
    {
      "cell_type": "code",
      "execution_count": 1,
      "metadata": {
        "colab": {
          "base_uri": "https://localhost:8080/"
        },
        "id": "6qSLW2m9QnBo",
        "outputId": "8e466690-0ccd-45b0-e313-4c859c53b823"
      },
      "outputs": [
        {
          "output_type": "stream",
          "name": "stdout",
          "text": [
            "Collecting transformers\n",
            "  Downloading transformers-4.34.1-py3-none-any.whl (7.7 MB)\n",
            "\u001b[2K     \u001b[90m━━━━━━━━━━━━━━━━━━━━━━━━━━━━━━━━━━━━━━━━\u001b[0m \u001b[32m7.7/7.7 MB\u001b[0m \u001b[31m48.3 MB/s\u001b[0m eta \u001b[36m0:00:00\u001b[0m\n",
            "\u001b[?25hRequirement already satisfied: filelock in /usr/local/lib/python3.10/dist-packages (from transformers) (3.12.4)\n",
            "Collecting huggingface-hub<1.0,>=0.16.4 (from transformers)\n",
            "  Downloading huggingface_hub-0.18.0-py3-none-any.whl (301 kB)\n",
            "\u001b[2K     \u001b[90m━━━━━━━━━━━━━━━━━━━━━━━━━━━━━━━━━━━━━━━━\u001b[0m \u001b[32m302.0/302.0 kB\u001b[0m \u001b[31m35.9 MB/s\u001b[0m eta \u001b[36m0:00:00\u001b[0m\n",
            "\u001b[?25hRequirement already satisfied: numpy>=1.17 in /usr/local/lib/python3.10/dist-packages (from transformers) (1.23.5)\n",
            "Requirement already satisfied: packaging>=20.0 in /usr/local/lib/python3.10/dist-packages (from transformers) (23.2)\n",
            "Requirement already satisfied: pyyaml>=5.1 in /usr/local/lib/python3.10/dist-packages (from transformers) (6.0.1)\n",
            "Requirement already satisfied: regex!=2019.12.17 in /usr/local/lib/python3.10/dist-packages (from transformers) (2023.6.3)\n",
            "Requirement already satisfied: requests in /usr/local/lib/python3.10/dist-packages (from transformers) (2.31.0)\n",
            "Collecting tokenizers<0.15,>=0.14 (from transformers)\n",
            "  Downloading tokenizers-0.14.1-cp310-cp310-manylinux_2_17_x86_64.manylinux2014_x86_64.whl (3.8 MB)\n",
            "\u001b[2K     \u001b[90m━━━━━━━━━━━━━━━━━━━━━━━━━━━━━━━━━━━━━━━━\u001b[0m \u001b[32m3.8/3.8 MB\u001b[0m \u001b[31m95.3 MB/s\u001b[0m eta \u001b[36m0:00:00\u001b[0m\n",
            "\u001b[?25hCollecting safetensors>=0.3.1 (from transformers)\n",
            "  Downloading safetensors-0.4.0-cp310-cp310-manylinux_2_17_x86_64.manylinux2014_x86_64.whl (1.3 MB)\n",
            "\u001b[2K     \u001b[90m━━━━━━━━━━━━━━━━━━━━━━━━━━━━━━━━━━━━━━━━\u001b[0m \u001b[32m1.3/1.3 MB\u001b[0m \u001b[31m59.3 MB/s\u001b[0m eta \u001b[36m0:00:00\u001b[0m\n",
            "\u001b[?25hRequirement already satisfied: tqdm>=4.27 in /usr/local/lib/python3.10/dist-packages (from transformers) (4.66.1)\n",
            "Requirement already satisfied: fsspec>=2023.5.0 in /usr/local/lib/python3.10/dist-packages (from huggingface-hub<1.0,>=0.16.4->transformers) (2023.6.0)\n",
            "Requirement already satisfied: typing-extensions>=3.7.4.3 in /usr/local/lib/python3.10/dist-packages (from huggingface-hub<1.0,>=0.16.4->transformers) (4.5.0)\n",
            "Collecting huggingface-hub<1.0,>=0.16.4 (from transformers)\n",
            "  Downloading huggingface_hub-0.17.3-py3-none-any.whl (295 kB)\n",
            "\u001b[2K     \u001b[90m━━━━━━━━━━━━━━━━━━━━━━━━━━━━━━━━━━━━━━━━\u001b[0m \u001b[32m295.0/295.0 kB\u001b[0m \u001b[31m28.4 MB/s\u001b[0m eta \u001b[36m0:00:00\u001b[0m\n",
            "\u001b[?25hRequirement already satisfied: charset-normalizer<4,>=2 in /usr/local/lib/python3.10/dist-packages (from requests->transformers) (3.3.1)\n",
            "Requirement already satisfied: idna<4,>=2.5 in /usr/local/lib/python3.10/dist-packages (from requests->transformers) (3.4)\n",
            "Requirement already satisfied: urllib3<3,>=1.21.1 in /usr/local/lib/python3.10/dist-packages (from requests->transformers) (2.0.7)\n",
            "Requirement already satisfied: certifi>=2017.4.17 in /usr/local/lib/python3.10/dist-packages (from requests->transformers) (2023.7.22)\n",
            "Installing collected packages: safetensors, huggingface-hub, tokenizers, transformers\n",
            "Successfully installed huggingface-hub-0.17.3 safetensors-0.4.0 tokenizers-0.14.1 transformers-4.34.1\n"
          ]
        }
      ],
      "source": [
        "!pip install transformers"
      ]
    },
    {
      "cell_type": "code",
      "source": [
        "import torch\n",
        "from transformers import AutoTokenizer, AutoModelForSequenceClassification\n",
        "\n",
        "# Load the tokenizer and model\n",
        "tokenizer = AutoTokenizer.from_pretrained(\"distilbert-base-uncased-finetuned-sst-2-english\")\n",
        "model = AutoModelForSequenceClassification.from_pretrained(\"distilbert-base-uncased-finetuned-sst-2-english\")\n",
        "\n",
        "# Define the function to predict the sentiment of a list of texts\n",
        "def predict_sentiments(texts):\n",
        "    sentiment_results = []\n",
        "\n",
        "    for text in texts:\n",
        "        # Text into a sequence of tokens\n",
        "        encoded_input = tokenizer(text, return_tensors=\"pt\")\n",
        "\n",
        "        # Predict the sentiment of the text\n",
        "        logits = model(**encoded_input)[0]\n",
        "\n",
        "        # Apply softmax to convert logits to probabilities\n",
        "        probabilities = torch.nn.functional.softmax(logits, dim=1)\n",
        "\n",
        "        # Get the sentiment score\n",
        "        sentiment_score = probabilities[0][1].item()\n",
        "\n",
        "        # Get the emotion corresponding to the sentiment score\n",
        "        emotions = []\n",
        "        if sentiment_score >= 0.7:\n",
        "            emotions.append(\"happy\")\n",
        "        elif 0.3 <= sentiment_score < 0.7:\n",
        "            emotions.append(\"excited\")\n",
        "        elif -0.3 <= sentiment_score < 0.3:\n",
        "            emotions.append(\"neutral\")\n",
        "        elif -0.7 <= sentiment_score < -0.3:\n",
        "            emotions.append(\"sad\")\n",
        "        elif sentiment_score <= -0.7:\n",
        "            emotions.append(\"angry\")\n",
        "\n",
        "        # Store the result\n",
        "        sentiment_results.append({\n",
        "            'text': text,\n",
        "            'sentiment_score': sentiment_score,\n",
        "            'emotions': emotions\n",
        "        })\n",
        "\n",
        "    return sentiment_results\n",
        "\n",
        "# Get the sentiments of a list of texts\n",
        "texts_to_analyze = [\"Iam devastated!\", \"I am feeling great.\", \"I am very disappointed.\", \"Its a really bad day\", \"Iam hurt\", \"I got the best seats in the theatre!, yay!!\"]\n",
        "sentiment_results = predict_sentiments(texts_to_analyze)\n",
        "\n",
        "# Printing the results for each text\n",
        "for result in sentiment_results:\n",
        "    print(f\"Text: {result['text']}\")\n",
        "    print(f\"Sentiment Score: {result['sentiment_score']}\")\n",
        "    print(f\"Emotions: {result['emotions']}\")\n",
        "    print(\"=\" * 50)\n"
      ],
      "metadata": {
        "colab": {
          "base_uri": "https://localhost:8080/"
        },
        "id": "1Jw-zJQ8Qr1M",
        "outputId": "8360ff5a-0eda-44da-a132-62e504cbcde4"
      },
      "execution_count": 9,
      "outputs": [
        {
          "output_type": "stream",
          "name": "stdout",
          "text": [
            "Text: Iam devastated!\n",
            "Sentiment Score: 0.0004817195294890553\n",
            "Emotions: ['neutral']\n",
            "==================================================\n",
            "Text: I am feeling great.\n",
            "Sentiment Score: 0.9998717308044434\n",
            "Emotions: ['happy']\n",
            "==================================================\n",
            "Text: I am very disappointed.\n",
            "Sentiment Score: 0.00022510126291308552\n",
            "Emotions: ['neutral']\n",
            "==================================================\n",
            "Text: Its a really bad day\n",
            "Sentiment Score: 0.00019393558613955975\n",
            "Emotions: ['neutral']\n",
            "==================================================\n",
            "Text: Iam hurt\n",
            "Sentiment Score: 0.0003664546529762447\n",
            "Emotions: ['neutral']\n",
            "==================================================\n",
            "Text: I got the best seats in the theatre!, yay!!\n",
            "Sentiment Score: 0.999715268611908\n",
            "Emotions: ['happy']\n",
            "==================================================\n"
          ]
        }
      ]
    }
  ]
}